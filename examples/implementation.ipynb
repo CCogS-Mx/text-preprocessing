{
 "cells": [
  {
   "attachments": {},
   "cell_type": "markdown",
   "metadata": {},
   "source": [
    "# Text preprocessing\n",
    "\n",
    "In this notebook, some examples on how to use the script are given."
   ]
  },
  {
   "attachments": {},
   "cell_type": "markdown",
   "metadata": {},
   "source": [
    "## First steps\n",
    "First you may download the ```text_preprocessing.py``` file from the script directory. then place it on any local directory you want.\n",
    "You may have to install the following libraries in order to make the script usable:\n",
    "- pandas\n",
    "- nltk\n",
    "- spacy\n",
    "- bs4\n",
    "- textblob\n",
    "\n",
    "we recommend to use a virtual enviroment like a conda or venv enviroment.\n",
    "\n",
    "Then just follow the process showed here for single texts (string type), lists of strings or dataframmes.\n",
    "\n",
    "---\n"
   ]
  },
  {
   "attachments": {},
   "cell_type": "markdown",
   "metadata": {},
   "source": [
    "## Add the script to the path and import it\n",
    "\n",
    "First you have to add the location of the dir containing the script to the path as shown below"
   ]
  },
  {
   "cell_type": "code",
   "execution_count": 3,
   "metadata": {},
   "outputs": [],
   "source": [
    "import sys\n",
    "sys.path.append('../script/')"
   ]
  },
  {
   "attachments": {},
   "cell_type": "markdown",
   "metadata": {},
   "source": [
    "Then you should import the script as a normal library"
   ]
  },
  {
   "cell_type": "code",
   "execution_count": 4,
   "metadata": {},
   "outputs": [],
   "source": [
    "import text_preprocessing as tp"
   ]
  },
  {
   "attachments": {},
   "cell_type": "markdown",
   "metadata": {},
   "source": [
    "\n",
    "---\n",
    "\n",
    "## Initializing the object\n",
    "\n",
    "Here you have to initialize the object, use the language desired to perform the preprocessing in the arguments\n",
    "The supported languagews are:\n",
    "- 'english'\n",
    "- 'spanish'"
   ]
  },
  {
   "cell_type": "code",
   "execution_count": 5,
   "metadata": {},
   "outputs": [],
   "source": [
    "prep = tp.Preprocessing('english')"
   ]
  },
  {
   "attachments": {},
   "cell_type": "markdown",
   "metadata": {},
   "source": [
    "\n",
    "---\n",
    "\n",
    "Once the object is initialized you can preprocess the texts contained in the following data structures:\n",
    "\n",
    "- String objects\n",
    "- List of string objects\n",
    "- Dataframes\n",
    "\n",
    "An example of the arguments and how to use each argument field in the main preprocessing function is given below.\n",
    "\n",
    "```python\n",
    "main_preprocess(data, column= None, tweet = False, \n",
    "                      remove_stop_words = False, is_dataframe= False, \n",
    "                      lemmatize = False, emoji_path = None)\n",
    "```\n",
    "\n",
    "- data: the data you want to preprocess\n",
    "- column: if you wan to preprocess the texts contained in a dataframe, you should use this fiield to provide the name of the column where the data is stored as string value\n",
    "- tweet: if `True` the function remove the Twitter entities like:\n",
    "    - HTML entities.\n",
    "    - Users: removes the words begining with @ like @user\n",
    "    - Hashtags: split the hashtags into the main words like in #LifesMatter -> Lifes Matter\n",
    "    - Retweets: remove the 'rt' identifiers\n",
    "- remove_stop_words: if `True`, the stopwords contained in the stopword corpus of NLTK library are removed\n",
    "- is_dataframe: if `True`, this means you are passing a DataFrame object from pandas to the function.\n",
    "- lemmatize: if `True`, the lemmatization of the words is made using the spaCy language model\n",
    "- emoji_path: If you provide a path to an emoji dictionari containing the emoji code and the textual description of the emoji like { :smiley: : smiley} the function, translates the emoji to the textual meaning."
   ]
  },
  {
   "attachments": {},
   "cell_type": "markdown",
   "metadata": {},
   "source": [
    "---\n",
    "\n",
    "## Single texts\n"
   ]
  },
  {
   "cell_type": "code",
   "execution_count": 10,
   "metadata": {},
   "outputs": [
    {
     "name": "stdout",
     "output_type": "stream",
     "text": [
      "this is a text to show the script users how to preprocess a string with the script all the things removed and feel free to check the code\n"
     ]
    }
   ],
   "source": [
    "text = 'This is a text to show the script users how to preprocess a string with the script. :) !!!! pl3ase n0t3 all the things removed and feel free to check the code'\n",
    "\n",
    "preprocessed_text = prep.main_preprocess(data = [text])\n",
    "\n",
    "print(preprocessed_text[0])"
   ]
  },
  {
   "attachments": {},
   "cell_type": "markdown",
   "metadata": {},
   "source": [
    "\n",
    "---\n",
    "\n",
    "## Lists of texts"
   ]
  },
  {
   "cell_type": "code",
   "execution_count": 13,
   "metadata": {},
   "outputs": [
    {
     "data": {
      "text/plain": [
       "['text this be example text',\n",
       " 'this be another example text',\n",
       " 'oh god I do not what else I should write in here hehe']"
      ]
     },
     "execution_count": 13,
     "metadata": {},
     "output_type": "execute_result"
    }
   ],
   "source": [
    "text_list = [\n",
    "    'text 1: this is 4n example TEXT',\n",
    "    'this is another. Example text?',\n",
    "    \"Oh god, I don't what else I should write in here!!!! :( (hehe)\"\n",
    "]\n",
    "\n",
    "preprocessed_text_list = prep.main_preprocess(data = text_list, lemmatize = True)\n",
    "preprocessed_text_list"
   ]
  },
  {
   "attachments": {},
   "cell_type": "markdown",
   "metadata": {},
   "source": [
    "\n",
    "---\n",
    "\n",
    "## Data frames"
   ]
  },
  {
   "cell_type": "code",
   "execution_count": 15,
   "metadata": {},
   "outputs": [],
   "source": [
    "import pandas as pd"
   ]
  },
  {
   "cell_type": "code",
   "execution_count": 19,
   "metadata": {},
   "outputs": [
    {
     "data": {
      "text/plain": [
       "0    La novena estadounidense se fue arriba en la p...\n",
       "1    🔴#ÚltimaHora🔴 Japón conquistó su tercer Clásic...\n",
       "2    Ahora | #MilenioNegocios con Regina Reyes-Hero...\n",
       "Name: TWEETS, dtype: object"
      ]
     },
     "execution_count": 19,
     "metadata": {},
     "output_type": "execute_result"
    }
   ],
   "source": [
    "df = pd.read_csv('example.csv')\n",
    "df.TWEETS[:3]"
   ]
  },
  {
   "cell_type": "code",
   "execution_count": 22,
   "metadata": {},
   "outputs": [],
   "source": [
    "prep_es = tp.Preprocessing('spanish')"
   ]
  },
  {
   "attachments": {},
   "cell_type": "markdown",
   "metadata": {},
   "source": [
    "first example, removing Twitter entities to a df"
   ]
  },
  {
   "cell_type": "code",
   "execution_count": 23,
   "metadata": {},
   "outputs": [
    {
     "data": {
      "text/plain": [
       "0    la novena estadounidense se fue arriba en la p...\n",
       "1    ultima hora japon conquisto su tercer clasico ...\n",
       "2    ahora milenio negocios con regina reyes herole...\n",
       "Name: TWEETS, dtype: object"
      ]
     },
     "execution_count": 23,
     "metadata": {},
     "output_type": "execute_result"
    }
   ],
   "source": [
    "preprocessed_df_1 = prep_es.main_preprocess(data = df, column= 'TWEETS', tweet = True, \n",
    "                      remove_stop_words = False, is_dataframe= True, \n",
    "                      lemmatize = False, emoji_path = None)\n",
    "\n",
    "preprocessed_df_1.TWEETS[:3]"
   ]
  },
  {
   "attachments": {},
   "cell_type": "markdown",
   "metadata": {},
   "source": [
    "Second example, removing Twitter entities, and stopwords"
   ]
  },
  {
   "cell_type": "code",
   "execution_count": 24,
   "metadata": {},
   "outputs": [
    {
     "data": {
      "text/plain": [
       "0    novena estadounidense arriba pizarra luego jap...\n",
       "1    ultima hora japon conquisto tercer clasico mun...\n",
       "2    ahora milenio negocios regina reyes heroles so...\n",
       "Name: TWEETS, dtype: object"
      ]
     },
     "execution_count": 24,
     "metadata": {},
     "output_type": "execute_result"
    }
   ],
   "source": [
    "preprocessed_df_2 = prep_es.main_preprocess(data = df, column= 'TWEETS', tweet = True, \n",
    "                      remove_stop_words = True, is_dataframe= True, \n",
    "                      lemmatize = False, emoji_path = None)\n",
    "\n",
    "preprocessed_df_2.TWEETS[:3]"
   ]
  },
  {
   "attachments": {},
   "cell_type": "markdown",
   "metadata": {},
   "source": [
    "Third example, removing Twitter entities, stopwords and lematizing"
   ]
  },
  {
   "cell_type": "code",
   "execution_count": 25,
   "metadata": {},
   "outputs": [
    {
     "data": {
      "text/plain": [
       "0    noveno estadounidense arriba pizarro luego jap...\n",
       "1    ultimo hora japon conquistar tercer clasico mu...\n",
       "2    ahora milenio negocio regin reyes herol sod en...\n",
       "Name: TWEETS, dtype: object"
      ]
     },
     "execution_count": 25,
     "metadata": {},
     "output_type": "execute_result"
    }
   ],
   "source": [
    "preprocessed_df_3 = prep_es.main_preprocess(data = df, column= 'TWEETS', tweet = True, \n",
    "                      remove_stop_words = True, is_dataframe= True, \n",
    "                      lemmatize = True, emoji_path = None)\n",
    "\n",
    "preprocessed_df_3.TWEETS[:3]"
   ]
  }
 ],
 "metadata": {
  "kernelspec": {
   "display_name": "nlp",
   "language": "python",
   "name": "python3"
  },
  "language_info": {
   "codemirror_mode": {
    "name": "ipython",
    "version": 3
   },
   "file_extension": ".py",
   "mimetype": "text/x-python",
   "name": "python",
   "nbconvert_exporter": "python",
   "pygments_lexer": "ipython3",
   "version": "3.11.0"
  },
  "orig_nbformat": 4
 },
 "nbformat": 4,
 "nbformat_minor": 2
}
