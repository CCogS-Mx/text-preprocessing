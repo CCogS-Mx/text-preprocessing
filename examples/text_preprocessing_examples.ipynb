{
 "cells": [
  {
   "attachments": {},
   "cell_type": "markdown",
   "metadata": {},
   "source": [
    "# Text preprocessing\n",
    "\n",
    "In this notebook, some examples on how to use the script are given."
   ]
  },
  {
   "attachments": {},
   "cell_type": "markdown",
   "metadata": {},
   "source": [
    "## First steps\n",
    "First you may download the ```text_preprocessing.py``` file from the script directory. then place it on any local directory you want.\n",
    "\n",
    "we recommend to use a virtual enviroment like a conda or venv enviroment.\n",
    "\n",
    "Then just follow the process showed here for single texts (string type), lists of strings or Pandas Data Frammes.\n",
    "\n",
    "---\n"
   ]
  },
  {
   "attachments": {},
   "cell_type": "markdown",
   "metadata": {},
   "source": [
    "## Add the script to the path and import it\n",
    "\n",
    "First you have to add the location of the dir containing the script to the path as shown below"
   ]
  },
  {
   "cell_type": "code",
   "execution_count": 1,
   "metadata": {},
   "outputs": [],
   "source": [
    "import sys\n",
    "sys.path.append('../text_preprocessing/')"
   ]
  },
  {
   "attachments": {},
   "cell_type": "markdown",
   "metadata": {},
   "source": [
    "Then you should import the script as a normal library"
   ]
  },
  {
   "cell_type": "code",
   "execution_count": null,
   "metadata": {},
   "outputs": [],
   "source": [
    "import text_preprocessing as tp"
   ]
  },
  {
   "attachments": {},
   "cell_type": "markdown",
   "metadata": {},
   "source": [
    "\n",
    "---\n",
    "\n",
    "## Initializing the object\n",
    "\n",
    "Here you have to initialize the object, use the language desired to perform the preprocessing in the arguments\n",
    "The supported languagews are:\n",
    "- 'english'\n",
    "- 'spanish'"
   ]
  },
  {
   "cell_type": "code",
   "execution_count": 14,
   "metadata": {},
   "outputs": [],
   "source": [
    "prep_en = tp.Preprocessing('english')\n",
    "prep_es = tp.Preprocessing('spanish')"
   ]
  },
  {
   "attachments": {},
   "cell_type": "markdown",
   "metadata": {},
   "source": [
    "\n",
    "---\n",
    "\n",
    "Once the object is initialized you can preprocess the texts contained in the following data structures:\n",
    "\n",
    "- String objects\n",
    "- List of string objects\n",
    "- Dataframes\n",
    "\n",
    "An example of the arguments and how to use each argument field in the main preprocessing function is given below.\n",
    "\n",
    "```python\n",
    "main_preprocess(data, column= None, \n",
    "                      tweet = False,\n",
    "                      tweet_tags = False,\n",
    "                      remove_stop_words = False, \n",
    "                      lemmatize = False,\n",
    "                      translate_emojis = False,\n",
    "                      whitelist = \"\")\n",
    "```\n",
    "\n",
    "- data: the data you want to preprocess\n",
    "- column: if you want to preprocess the texts contained in a dataframe, you must use this fiield to provide the name of the column where the data is stored as string value\n",
    "- tweet: To indicate the function if you want to preprocess text retrieved from Twitter. If `True` the function remove the following Twitter entities by default:\n",
    "    - HTML entities.\n",
    "    - Users: removes the words begining with @ like @user\n",
    "    - Hashtags: split the hashtags into the main words like in #LifesMatter -> Lifes Matter\n",
    "    - Retweets: remove the 'rt' identifiers\n",
    "- tweet_tags: if `True` instead of removing the Twitter all the Twitter entities, this argument tells the function to replace the following entities with a special TAG.\n",
    "    - rt: the retweet identifier is tagged as 'RT'\n",
    "    - urls: all the urls are tagged as 'URL'\n",
    "    - hashtag: the hashtags are tagged as 'HASHTAG'\n",
    "- remove_stop_words: if `True`, the stopwords contained in the stopword corpus of NLTK library are removed\n",
    "- is_dataframe: if `True`, this means you are passing a DataFrame object from pandas to the function.\n",
    "- lemmatize: if `True`, the lemmatization of the words is made using the spaCy language model\n",
    "- translate_emojis: If you want to translate the emojis to their textual meaning i.e.  :smiley: = smiley\n",
    "- whitelist: a string that contains the characters you do not want to eliminate during the preprocessing stage"
   ]
  },
  {
   "attachments": {},
   "cell_type": "markdown",
   "metadata": {},
   "source": [
    "\n",
    "---\n",
    "\n",
    "## Examples\n",
    "\n",
    "### Single texts\n",
    "\n",
    "#### English\n"
   ]
  },
  {
   "cell_type": "code",
   "execution_count": 4,
   "metadata": {},
   "outputs": [
    {
     "name": "stdout",
     "output_type": "stream",
     "text": [
      "this is a text to show the script users how to preprocess a string with the script all the things removed and feel free to check the code\n"
     ]
    }
   ],
   "source": [
    "text = 'This is a text to show the script users how to preprocess a string with the script. :) !!!! pl3ase n0t3 all the things removed and feel free to check the code'\n",
    "\n",
    "preprocessed_text = prep_en.main_preprocess(data = text)\n",
    "\n",
    "print(preprocessed_text)"
   ]
  },
  {
   "attachments": {},
   "cell_type": "markdown",
   "metadata": {},
   "source": [
    "#### Spanish"
   ]
  },
  {
   "cell_type": "code",
   "execution_count": 6,
   "metadata": {},
   "outputs": [
    {
     "name": "stdout",
     "output_type": "stream",
     "text": [
      "este es un texto de la transformacion de texto a texto plano se realiza como\n"
     ]
    }
   ],
   "source": [
    "text = 'Este es un TEXTO de pru3ba, la transformación de texto a texto plano se realiza como 4 c0nt1nuaci0n'\n",
    "\n",
    "preprocessed_text = prep_es.main_preprocess(data = text)\n",
    "\n",
    "print(preprocessed_text)"
   ]
  },
  {
   "attachments": {},
   "cell_type": "markdown",
   "metadata": {},
   "source": [
    "\n",
    "---\n",
    "\n",
    "### Lists of texts\n",
    "#### English"
   ]
  },
  {
   "cell_type": "code",
   "execution_count": 7,
   "metadata": {},
   "outputs": [
    {
     "data": {
      "text/plain": [
       "['text this be example text',\n",
       " 'this be another example text',\n",
       " 'oh god I do not what else I should write in here hehe']"
      ]
     },
     "execution_count": 7,
     "metadata": {},
     "output_type": "execute_result"
    }
   ],
   "source": [
    "text_list = [\n",
    "    'text 1: this is 4n example TEXT',\n",
    "    'this is another. Example text?',\n",
    "    \"Oh god, I don't what else I should write in here!!!! :( (hehe)\"\n",
    "]\n",
    "\n",
    "\n",
    "preprocessed_text_list = prep_en.main_preprocess(data = text_list,\n",
    "                                                 lemmatize = True)\n",
    "preprocessed_text_list"
   ]
  },
  {
   "attachments": {},
   "cell_type": "markdown",
   "metadata": {},
   "source": [
    "#### Spanish"
   ]
  },
  {
   "cell_type": "code",
   "execution_count": 8,
   "metadata": {},
   "outputs": [
    {
     "data": {
      "text/plain": [
       "['texto este ser uno texto de ejemplo',\n",
       " 'este texto ser otro de ejemplo',\n",
       " 'este otro texto ser mas largo para que servir como otro ejemplo hehe']"
      ]
     },
     "execution_count": 8,
     "metadata": {},
     "output_type": "execute_result"
    }
   ],
   "source": [
    "text_list = [\n",
    "    'texto 1: ESTE es un texto de EjemPlo',\n",
    "    'Este texto es otro t3xt0 de ejemplo',\n",
    "    \"este otro texto, es más largo :) para que sirva como otro ejemplo!!!! :( (hehe)\"\n",
    "]\n",
    "\n",
    "\n",
    "preprocessed_text_list = prep_es.main_preprocess(data = text_list,\n",
    "                                                 lemmatize = True)\n",
    "preprocessed_text_list"
   ]
  },
  {
   "attachments": {},
   "cell_type": "markdown",
   "metadata": {},
   "source": [
    "\n",
    "---\n",
    "\n",
    "### Data frames"
   ]
  },
  {
   "cell_type": "code",
   "execution_count": 9,
   "metadata": {},
   "outputs": [],
   "source": [
    "import pandas as pd"
   ]
  },
  {
   "cell_type": "code",
   "execution_count": 15,
   "metadata": {},
   "outputs": [
    {
     "data": {
      "text/plain": [
       "0    La novena estadounidense se fue arriba en la p...\n",
       "1    🔴#ÚltimaHora🔴 Japón conquistó su tercer Clásic...\n",
       "2    Ahora | #MilenioNegocios con Regina Reyes-Hero...\n",
       "Name: TWEETS, dtype: object"
      ]
     },
     "execution_count": 15,
     "metadata": {},
     "output_type": "execute_result"
    }
   ],
   "source": [
    "df = pd.read_csv('example.csv')\n",
    "df.TWEETS[:3]"
   ]
  },
  {
   "attachments": {},
   "cell_type": "markdown",
   "metadata": {},
   "source": [
    "First example.\n",
    "\n",
    "Removing Twitter entities."
   ]
  },
  {
   "cell_type": "code",
   "execution_count": 17,
   "metadata": {},
   "outputs": [
    {
     "data": {
      "text/plain": [
       "0    la novena estadounidense se fue arriba en la p...\n",
       "1    ultimahora japon conquisto su tercer clasico m...\n",
       "2    ahora milenionegocios con regina reyes heroles...\n",
       "Name: TWEETS, dtype: object"
      ]
     },
     "execution_count": 17,
     "metadata": {},
     "output_type": "execute_result"
    }
   ],
   "source": [
    "preprocessed_df_1 = prep_es.main_preprocess(data = df, \n",
    "                                            column= 'TWEETS', \n",
    "                                            tweet = True,\n",
    "                                            tweet_tags = False,\n",
    "                                            remove_stop_words = False, \n",
    "                                            lemmatize = False,\n",
    "                                            translate_emojis = False)\n",
    "\n",
    "preprocessed_df_1.TWEETS[:3]"
   ]
  },
  {
   "attachments": {},
   "cell_type": "markdown",
   "metadata": {},
   "source": [
    "Second example.\n",
    "\n",
    "Tagging Twitter entities, and removing stopwords."
   ]
  },
  {
   "cell_type": "code",
   "execution_count": 18,
   "metadata": {},
   "outputs": [
    {
     "data": {
      "text/plain": [
       "0    novena estadounidense arriba pizarra luego jap...\n",
       "1    ultimahora japon conquisto tercer clasico mund...\n",
       "2    ahora HASHTAG regina reyes heroles entrevista URL\n",
       "Name: TWEETS, dtype: object"
      ]
     },
     "execution_count": 18,
     "metadata": {},
     "output_type": "execute_result"
    }
   ],
   "source": [
    "preprocessed_df_2 = prep_es.main_preprocess(data = df, \n",
    "                                            column= 'TWEETS', \n",
    "                                            tweet = True,\n",
    "                                            tweet_tags = True,\n",
    "                                            remove_stop_words = True, \n",
    "                                            lemmatize = False,\n",
    "                                            translate_emojis = False)\n",
    "\n",
    "preprocessed_df_2.TWEETS[:3]"
   ]
  },
  {
   "attachments": {},
   "cell_type": "markdown",
   "metadata": {},
   "source": [
    "Third example.\n",
    "\n",
    "Tagging Twitter entities, and removing stopwords, and lematizing."
   ]
  },
  {
   "cell_type": "code",
   "execution_count": 19,
   "metadata": {},
   "outputs": [
    {
     "data": {
      "text/plain": [
       "0    noveno estadounidense arriba pizarro luego jap...\n",
       "1    ultimahoro japon conquistar tercer clasico mun...\n",
       "2     ahora HASHTAG reginar reyes herol entrevista URL\n",
       "Name: TWEETS, dtype: object"
      ]
     },
     "execution_count": 19,
     "metadata": {},
     "output_type": "execute_result"
    }
   ],
   "source": [
    "preprocessed_df_3 = prep_es.main_preprocess(data = df, \n",
    "                                            column= 'TWEETS', \n",
    "                                            tweet = True,\n",
    "                                            tweet_tags = True,\n",
    "                                            remove_stop_words = True, \n",
    "                                            lemmatize = True,\n",
    "                                            translate_emojis = False)\n",
    "\n",
    "preprocessed_df_3.TWEETS[:3]"
   ]
  },
  {
   "attachments": {},
   "cell_type": "markdown",
   "metadata": {},
   "source": [
    "Fourth example.\n",
    "\n",
    "Tagging Twitter entities, removing stopwords, lematizing and translating emojis to text."
   ]
  },
  {
   "cell_type": "code",
   "execution_count": 20,
   "metadata": {},
   "outputs": [
    {
     "data": {
      "text/plain": [
       "0    noveno estadounidense arriba pizarro luego jap...\n",
       "1    circulo rojo grande ultimahora circulo rojo gr...\n",
       "2     ahora HASHTAG reginar reyes herol entrevista URL\n",
       "Name: TWEETS, dtype: object"
      ]
     },
     "execution_count": 20,
     "metadata": {},
     "output_type": "execute_result"
    }
   ],
   "source": [
    "preprocessed_df_4 = prep_es.main_preprocess(data = df, \n",
    "                                            column= 'TWEETS', \n",
    "                                            tweet = True,\n",
    "                                            tweet_tags = True,\n",
    "                                            remove_stop_words = True, \n",
    "                                            lemmatize = True,\n",
    "                                            translate_emojis = True,\n",
    "                                            whitelist= 'ñ')\n",
    "\n",
    "preprocessed_df_4.TWEETS[:3]"
   ]
  }
 ],
 "metadata": {
  "kernelspec": {
   "display_name": "nlp",
   "language": "python",
   "name": "python3"
  },
  "language_info": {
   "codemirror_mode": {
    "name": "ipython",
    "version": 3
   },
   "file_extension": ".py",
   "mimetype": "text/x-python",
   "name": "python",
   "nbconvert_exporter": "python",
   "pygments_lexer": "ipython3",
   "version": "3.11.0"
  },
  "orig_nbformat": 4
 },
 "nbformat": 4,
 "nbformat_minor": 2
}
