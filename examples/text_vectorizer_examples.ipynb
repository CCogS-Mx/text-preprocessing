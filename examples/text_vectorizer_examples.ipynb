{
 "cells": [
  {
   "cell_type": "code",
   "execution_count": 1,
   "metadata": {},
   "outputs": [],
   "source": [
    "import sys\n",
    "sys.path.append('../text_preprocessing/')"
   ]
  },
  {
   "cell_type": "code",
   "execution_count": 2,
   "metadata": {},
   "outputs": [
    {
     "name": "stdout",
     "output_type": "stream",
     "text": [
      "Requirement already satisfied: nltk==3.8.1 in /home/cesarms/miniconda3/envs/scripts/lib/python3.11/site-packages (3.8.1)\n",
      "Requirement already satisfied: spacy==3.5.2 in /home/cesarms/miniconda3/envs/scripts/lib/python3.11/site-packages (3.5.2)\n",
      "Requirement already satisfied: emoji==2.2.0 in /home/cesarms/miniconda3/envs/scripts/lib/python3.11/site-packages (2.2.0)\n",
      "Requirement already satisfied: pandas==2.0.0 in /home/cesarms/miniconda3/envs/scripts/lib/python3.11/site-packages (2.0.0)\n",
      "Requirement already satisfied: bs4==0.0.1 in /home/cesarms/miniconda3/envs/scripts/lib/python3.11/site-packages (0.0.1)\n",
      "Requirement already satisfied: textblob==0.17.1 in /home/cesarms/miniconda3/envs/scripts/lib/python3.11/site-packages (0.17.1)\n",
      "Requirement already satisfied: click in /home/cesarms/miniconda3/envs/scripts/lib/python3.11/site-packages (from nltk==3.8.1) (8.1.3)\n",
      "Requirement already satisfied: joblib in /home/cesarms/miniconda3/envs/scripts/lib/python3.11/site-packages (from nltk==3.8.1) (1.2.0)\n",
      "Requirement already satisfied: regex>=2021.8.3 in /home/cesarms/miniconda3/envs/scripts/lib/python3.11/site-packages (from nltk==3.8.1) (2023.5.5)\n",
      "Requirement already satisfied: tqdm in /home/cesarms/miniconda3/envs/scripts/lib/python3.11/site-packages (from nltk==3.8.1) (4.65.0)\n",
      "Requirement already satisfied: spacy-legacy<3.1.0,>=3.0.11 in /home/cesarms/miniconda3/envs/scripts/lib/python3.11/site-packages (from spacy==3.5.2) (3.0.12)\n",
      "Requirement already satisfied: spacy-loggers<2.0.0,>=1.0.0 in /home/cesarms/miniconda3/envs/scripts/lib/python3.11/site-packages (from spacy==3.5.2) (1.0.4)\n",
      "Requirement already satisfied: murmurhash<1.1.0,>=0.28.0 in /home/cesarms/miniconda3/envs/scripts/lib/python3.11/site-packages (from spacy==3.5.2) (1.0.9)\n",
      "Requirement already satisfied: cymem<2.1.0,>=2.0.2 in /home/cesarms/miniconda3/envs/scripts/lib/python3.11/site-packages (from spacy==3.5.2) (2.0.7)\n",
      "Requirement already satisfied: preshed<3.1.0,>=3.0.2 in /home/cesarms/miniconda3/envs/scripts/lib/python3.11/site-packages (from spacy==3.5.2) (3.0.8)\n",
      "Requirement already satisfied: thinc<8.2.0,>=8.1.8 in /home/cesarms/miniconda3/envs/scripts/lib/python3.11/site-packages (from spacy==3.5.2) (8.1.10)\n",
      "Requirement already satisfied: wasabi<1.2.0,>=0.9.1 in /home/cesarms/miniconda3/envs/scripts/lib/python3.11/site-packages (from spacy==3.5.2) (1.1.1)\n",
      "Requirement already satisfied: srsly<3.0.0,>=2.4.3 in /home/cesarms/miniconda3/envs/scripts/lib/python3.11/site-packages (from spacy==3.5.2) (2.4.6)\n",
      "Requirement already satisfied: catalogue<2.1.0,>=2.0.6 in /home/cesarms/miniconda3/envs/scripts/lib/python3.11/site-packages (from spacy==3.5.2) (2.0.8)\n",
      "Requirement already satisfied: typer<0.8.0,>=0.3.0 in /home/cesarms/miniconda3/envs/scripts/lib/python3.11/site-packages (from spacy==3.5.2) (0.7.0)\n",
      "Requirement already satisfied: pathy>=0.10.0 in /home/cesarms/miniconda3/envs/scripts/lib/python3.11/site-packages (from spacy==3.5.2) (0.10.1)\n",
      "Requirement already satisfied: smart-open<7.0.0,>=5.2.1 in /home/cesarms/miniconda3/envs/scripts/lib/python3.11/site-packages (from spacy==3.5.2) (6.3.0)\n",
      "Requirement already satisfied: numpy>=1.15.0 in /home/cesarms/miniconda3/envs/scripts/lib/python3.11/site-packages (from spacy==3.5.2) (1.24.3)\n",
      "Requirement already satisfied: requests<3.0.0,>=2.13.0 in /home/cesarms/miniconda3/envs/scripts/lib/python3.11/site-packages (from spacy==3.5.2) (2.30.0)\n",
      "Requirement already satisfied: pydantic!=1.8,!=1.8.1,<1.11.0,>=1.7.4 in /home/cesarms/miniconda3/envs/scripts/lib/python3.11/site-packages (from spacy==3.5.2) (1.10.7)\n",
      "Requirement already satisfied: jinja2 in /home/cesarms/miniconda3/envs/scripts/lib/python3.11/site-packages (from spacy==3.5.2) (3.1.2)\n",
      "Requirement already satisfied: setuptools in /home/cesarms/miniconda3/envs/scripts/lib/python3.11/site-packages (from spacy==3.5.2) (66.0.0)\n",
      "Requirement already satisfied: packaging>=20.0 in /home/cesarms/miniconda3/envs/scripts/lib/python3.11/site-packages (from spacy==3.5.2) (23.1)\n",
      "Requirement already satisfied: langcodes<4.0.0,>=3.2.0 in /home/cesarms/miniconda3/envs/scripts/lib/python3.11/site-packages (from spacy==3.5.2) (3.3.0)\n",
      "Requirement already satisfied: python-dateutil>=2.8.2 in /home/cesarms/miniconda3/envs/scripts/lib/python3.11/site-packages (from pandas==2.0.0) (2.8.2)\n",
      "Requirement already satisfied: pytz>=2020.1 in /home/cesarms/miniconda3/envs/scripts/lib/python3.11/site-packages (from pandas==2.0.0) (2023.3)\n",
      "Requirement already satisfied: tzdata>=2022.1 in /home/cesarms/miniconda3/envs/scripts/lib/python3.11/site-packages (from pandas==2.0.0) (2023.3)\n",
      "Requirement already satisfied: beautifulsoup4 in /home/cesarms/miniconda3/envs/scripts/lib/python3.11/site-packages (from bs4==0.0.1) (4.12.2)\n",
      "Requirement already satisfied: typing-extensions>=4.2.0 in /home/cesarms/miniconda3/envs/scripts/lib/python3.11/site-packages (from pydantic!=1.8,!=1.8.1,<1.11.0,>=1.7.4->spacy==3.5.2) (4.5.0)\n",
      "Requirement already satisfied: six>=1.5 in /home/cesarms/miniconda3/envs/scripts/lib/python3.11/site-packages (from python-dateutil>=2.8.2->pandas==2.0.0) (1.16.0)\n",
      "Requirement already satisfied: charset-normalizer<4,>=2 in /home/cesarms/miniconda3/envs/scripts/lib/python3.11/site-packages (from requests<3.0.0,>=2.13.0->spacy==3.5.2) (3.1.0)\n",
      "Requirement already satisfied: idna<4,>=2.5 in /home/cesarms/miniconda3/envs/scripts/lib/python3.11/site-packages (from requests<3.0.0,>=2.13.0->spacy==3.5.2) (3.4)\n",
      "Requirement already satisfied: urllib3<3,>=1.21.1 in /home/cesarms/miniconda3/envs/scripts/lib/python3.11/site-packages (from requests<3.0.0,>=2.13.0->spacy==3.5.2) (2.0.2)\n",
      "Requirement already satisfied: certifi>=2017.4.17 in /home/cesarms/miniconda3/envs/scripts/lib/python3.11/site-packages (from requests<3.0.0,>=2.13.0->spacy==3.5.2) (2023.5.7)\n",
      "Requirement already satisfied: blis<0.8.0,>=0.7.8 in /home/cesarms/miniconda3/envs/scripts/lib/python3.11/site-packages (from thinc<8.2.0,>=8.1.8->spacy==3.5.2) (0.7.9)\n",
      "Requirement already satisfied: confection<1.0.0,>=0.0.1 in /home/cesarms/miniconda3/envs/scripts/lib/python3.11/site-packages (from thinc<8.2.0,>=8.1.8->spacy==3.5.2) (0.0.4)\n",
      "Requirement already satisfied: soupsieve>1.2 in /home/cesarms/miniconda3/envs/scripts/lib/python3.11/site-packages (from beautifulsoup4->bs4==0.0.1) (2.4.1)\n",
      "Requirement already satisfied: MarkupSafe>=2.0 in /home/cesarms/miniconda3/envs/scripts/lib/python3.11/site-packages (from jinja2->spacy==3.5.2) (2.1.2)\n",
      "Collecting es-core-news-sm==3.5.0\n",
      "  Downloading https://github.com/explosion/spacy-models/releases/download/es_core_news_sm-3.5.0/es_core_news_sm-3.5.0-py3-none-any.whl (12.9 MB)\n",
      "     ━━━━━━━━━━━━━━━━━━━━━━━━━━━━━━━━━━━━━━━━ 12.9/12.9 MB 24.6 MB/s eta 0:00:00\n",
      "Requirement already satisfied: spacy<3.6.0,>=3.5.0 in /home/cesarms/miniconda3/envs/scripts/lib/python3.11/site-packages (from es-core-news-sm==3.5.0) (3.5.2)\n",
      "Requirement already satisfied: spacy-legacy<3.1.0,>=3.0.11 in /home/cesarms/miniconda3/envs/scripts/lib/python3.11/site-packages (from spacy<3.6.0,>=3.5.0->es-core-news-sm==3.5.0) (3.0.12)\n",
      "Requirement already satisfied: spacy-loggers<2.0.0,>=1.0.0 in /home/cesarms/miniconda3/envs/scripts/lib/python3.11/site-packages (from spacy<3.6.0,>=3.5.0->es-core-news-sm==3.5.0) (1.0.4)\n",
      "Requirement already satisfied: murmurhash<1.1.0,>=0.28.0 in /home/cesarms/miniconda3/envs/scripts/lib/python3.11/site-packages (from spacy<3.6.0,>=3.5.0->es-core-news-sm==3.5.0) (1.0.9)\n",
      "Requirement already satisfied: cymem<2.1.0,>=2.0.2 in /home/cesarms/miniconda3/envs/scripts/lib/python3.11/site-packages (from spacy<3.6.0,>=3.5.0->es-core-news-sm==3.5.0) (2.0.7)\n",
      "Requirement already satisfied: preshed<3.1.0,>=3.0.2 in /home/cesarms/miniconda3/envs/scripts/lib/python3.11/site-packages (from spacy<3.6.0,>=3.5.0->es-core-news-sm==3.5.0) (3.0.8)\n",
      "Requirement already satisfied: thinc<8.2.0,>=8.1.8 in /home/cesarms/miniconda3/envs/scripts/lib/python3.11/site-packages (from spacy<3.6.0,>=3.5.0->es-core-news-sm==3.5.0) (8.1.10)\n",
      "Requirement already satisfied: wasabi<1.2.0,>=0.9.1 in /home/cesarms/miniconda3/envs/scripts/lib/python3.11/site-packages (from spacy<3.6.0,>=3.5.0->es-core-news-sm==3.5.0) (1.1.1)\n",
      "Requirement already satisfied: srsly<3.0.0,>=2.4.3 in /home/cesarms/miniconda3/envs/scripts/lib/python3.11/site-packages (from spacy<3.6.0,>=3.5.0->es-core-news-sm==3.5.0) (2.4.6)\n",
      "Requirement already satisfied: catalogue<2.1.0,>=2.0.6 in /home/cesarms/miniconda3/envs/scripts/lib/python3.11/site-packages (from spacy<3.6.0,>=3.5.0->es-core-news-sm==3.5.0) (2.0.8)\n",
      "Requirement already satisfied: typer<0.8.0,>=0.3.0 in /home/cesarms/miniconda3/envs/scripts/lib/python3.11/site-packages (from spacy<3.6.0,>=3.5.0->es-core-news-sm==3.5.0) (0.7.0)\n",
      "Requirement already satisfied: pathy>=0.10.0 in /home/cesarms/miniconda3/envs/scripts/lib/python3.11/site-packages (from spacy<3.6.0,>=3.5.0->es-core-news-sm==3.5.0) (0.10.1)\n",
      "Requirement already satisfied: smart-open<7.0.0,>=5.2.1 in /home/cesarms/miniconda3/envs/scripts/lib/python3.11/site-packages (from spacy<3.6.0,>=3.5.0->es-core-news-sm==3.5.0) (6.3.0)\n",
      "Requirement already satisfied: tqdm<5.0.0,>=4.38.0 in /home/cesarms/miniconda3/envs/scripts/lib/python3.11/site-packages (from spacy<3.6.0,>=3.5.0->es-core-news-sm==3.5.0) (4.65.0)\n",
      "Requirement already satisfied: numpy>=1.15.0 in /home/cesarms/miniconda3/envs/scripts/lib/python3.11/site-packages (from spacy<3.6.0,>=3.5.0->es-core-news-sm==3.5.0) (1.24.3)\n",
      "Requirement already satisfied: requests<3.0.0,>=2.13.0 in /home/cesarms/miniconda3/envs/scripts/lib/python3.11/site-packages (from spacy<3.6.0,>=3.5.0->es-core-news-sm==3.5.0) (2.30.0)\n",
      "Requirement already satisfied: pydantic!=1.8,!=1.8.1,<1.11.0,>=1.7.4 in /home/cesarms/miniconda3/envs/scripts/lib/python3.11/site-packages (from spacy<3.6.0,>=3.5.0->es-core-news-sm==3.5.0) (1.10.7)\n",
      "Requirement already satisfied: jinja2 in /home/cesarms/miniconda3/envs/scripts/lib/python3.11/site-packages (from spacy<3.6.0,>=3.5.0->es-core-news-sm==3.5.0) (3.1.2)\n",
      "Requirement already satisfied: setuptools in /home/cesarms/miniconda3/envs/scripts/lib/python3.11/site-packages (from spacy<3.6.0,>=3.5.0->es-core-news-sm==3.5.0) (66.0.0)\n",
      "Requirement already satisfied: packaging>=20.0 in /home/cesarms/miniconda3/envs/scripts/lib/python3.11/site-packages (from spacy<3.6.0,>=3.5.0->es-core-news-sm==3.5.0) (23.1)\n",
      "Requirement already satisfied: langcodes<4.0.0,>=3.2.0 in /home/cesarms/miniconda3/envs/scripts/lib/python3.11/site-packages (from spacy<3.6.0,>=3.5.0->es-core-news-sm==3.5.0) (3.3.0)\n",
      "Requirement already satisfied: typing-extensions>=4.2.0 in /home/cesarms/miniconda3/envs/scripts/lib/python3.11/site-packages (from pydantic!=1.8,!=1.8.1,<1.11.0,>=1.7.4->spacy<3.6.0,>=3.5.0->es-core-news-sm==3.5.0) (4.5.0)\n",
      "Requirement already satisfied: charset-normalizer<4,>=2 in /home/cesarms/miniconda3/envs/scripts/lib/python3.11/site-packages (from requests<3.0.0,>=2.13.0->spacy<3.6.0,>=3.5.0->es-core-news-sm==3.5.0) (3.1.0)\n",
      "Requirement already satisfied: idna<4,>=2.5 in /home/cesarms/miniconda3/envs/scripts/lib/python3.11/site-packages (from requests<3.0.0,>=2.13.0->spacy<3.6.0,>=3.5.0->es-core-news-sm==3.5.0) (3.4)\n",
      "Requirement already satisfied: urllib3<3,>=1.21.1 in /home/cesarms/miniconda3/envs/scripts/lib/python3.11/site-packages (from requests<3.0.0,>=2.13.0->spacy<3.6.0,>=3.5.0->es-core-news-sm==3.5.0) (2.0.2)\n",
      "Requirement already satisfied: certifi>=2017.4.17 in /home/cesarms/miniconda3/envs/scripts/lib/python3.11/site-packages (from requests<3.0.0,>=2.13.0->spacy<3.6.0,>=3.5.0->es-core-news-sm==3.5.0) (2023.5.7)\n",
      "Requirement already satisfied: blis<0.8.0,>=0.7.8 in /home/cesarms/miniconda3/envs/scripts/lib/python3.11/site-packages (from thinc<8.2.0,>=8.1.8->spacy<3.6.0,>=3.5.0->es-core-news-sm==3.5.0) (0.7.9)\n",
      "Requirement already satisfied: confection<1.0.0,>=0.0.1 in /home/cesarms/miniconda3/envs/scripts/lib/python3.11/site-packages (from thinc<8.2.0,>=8.1.8->spacy<3.6.0,>=3.5.0->es-core-news-sm==3.5.0) (0.0.4)\n",
      "Requirement already satisfied: click<9.0.0,>=7.1.1 in /home/cesarms/miniconda3/envs/scripts/lib/python3.11/site-packages (from typer<0.8.0,>=0.3.0->spacy<3.6.0,>=3.5.0->es-core-news-sm==3.5.0) (8.1.3)\n",
      "Requirement already satisfied: MarkupSafe>=2.0 in /home/cesarms/miniconda3/envs/scripts/lib/python3.11/site-packages (from jinja2->spacy<3.6.0,>=3.5.0->es-core-news-sm==3.5.0) (2.1.2)\n",
      "\u001b[38;5;2m✔ Download and installation successful\u001b[0m\n",
      "You can now load the package via spacy.load('es_core_news_sm')\n",
      "Collecting en-core-web-sm==3.5.0\n",
      "  Downloading https://github.com/explosion/spacy-models/releases/download/en_core_web_sm-3.5.0/en_core_web_sm-3.5.0-py3-none-any.whl (12.8 MB)\n",
      "     ━━━━━━━━━━━━━━━━━━━━━━━━━━━━━━━━━━━━━━━━ 12.8/12.8 MB 23.5 MB/s eta 0:00:00\n",
      "Requirement already satisfied: spacy<3.6.0,>=3.5.0 in /home/cesarms/miniconda3/envs/scripts/lib/python3.11/site-packages (from en-core-web-sm==3.5.0) (3.5.2)\n",
      "Requirement already satisfied: spacy-legacy<3.1.0,>=3.0.11 in /home/cesarms/miniconda3/envs/scripts/lib/python3.11/site-packages (from spacy<3.6.0,>=3.5.0->en-core-web-sm==3.5.0) (3.0.12)\n",
      "Requirement already satisfied: spacy-loggers<2.0.0,>=1.0.0 in /home/cesarms/miniconda3/envs/scripts/lib/python3.11/site-packages (from spacy<3.6.0,>=3.5.0->en-core-web-sm==3.5.0) (1.0.4)\n",
      "Requirement already satisfied: murmurhash<1.1.0,>=0.28.0 in /home/cesarms/miniconda3/envs/scripts/lib/python3.11/site-packages (from spacy<3.6.0,>=3.5.0->en-core-web-sm==3.5.0) (1.0.9)\n",
      "Requirement already satisfied: cymem<2.1.0,>=2.0.2 in /home/cesarms/miniconda3/envs/scripts/lib/python3.11/site-packages (from spacy<3.6.0,>=3.5.0->en-core-web-sm==3.5.0) (2.0.7)\n",
      "Requirement already satisfied: preshed<3.1.0,>=3.0.2 in /home/cesarms/miniconda3/envs/scripts/lib/python3.11/site-packages (from spacy<3.6.0,>=3.5.0->en-core-web-sm==3.5.0) (3.0.8)\n",
      "Requirement already satisfied: thinc<8.2.0,>=8.1.8 in /home/cesarms/miniconda3/envs/scripts/lib/python3.11/site-packages (from spacy<3.6.0,>=3.5.0->en-core-web-sm==3.5.0) (8.1.10)\n",
      "Requirement already satisfied: wasabi<1.2.0,>=0.9.1 in /home/cesarms/miniconda3/envs/scripts/lib/python3.11/site-packages (from spacy<3.6.0,>=3.5.0->en-core-web-sm==3.5.0) (1.1.1)\n",
      "Requirement already satisfied: srsly<3.0.0,>=2.4.3 in /home/cesarms/miniconda3/envs/scripts/lib/python3.11/site-packages (from spacy<3.6.0,>=3.5.0->en-core-web-sm==3.5.0) (2.4.6)\n",
      "Requirement already satisfied: catalogue<2.1.0,>=2.0.6 in /home/cesarms/miniconda3/envs/scripts/lib/python3.11/site-packages (from spacy<3.6.0,>=3.5.0->en-core-web-sm==3.5.0) (2.0.8)\n",
      "Requirement already satisfied: typer<0.8.0,>=0.3.0 in /home/cesarms/miniconda3/envs/scripts/lib/python3.11/site-packages (from spacy<3.6.0,>=3.5.0->en-core-web-sm==3.5.0) (0.7.0)\n",
      "Requirement already satisfied: pathy>=0.10.0 in /home/cesarms/miniconda3/envs/scripts/lib/python3.11/site-packages (from spacy<3.6.0,>=3.5.0->en-core-web-sm==3.5.0) (0.10.1)\n",
      "Requirement already satisfied: smart-open<7.0.0,>=5.2.1 in /home/cesarms/miniconda3/envs/scripts/lib/python3.11/site-packages (from spacy<3.6.0,>=3.5.0->en-core-web-sm==3.5.0) (6.3.0)\n",
      "Requirement already satisfied: tqdm<5.0.0,>=4.38.0 in /home/cesarms/miniconda3/envs/scripts/lib/python3.11/site-packages (from spacy<3.6.0,>=3.5.0->en-core-web-sm==3.5.0) (4.65.0)\n",
      "Requirement already satisfied: numpy>=1.15.0 in /home/cesarms/miniconda3/envs/scripts/lib/python3.11/site-packages (from spacy<3.6.0,>=3.5.0->en-core-web-sm==3.5.0) (1.24.3)\n",
      "Requirement already satisfied: requests<3.0.0,>=2.13.0 in /home/cesarms/miniconda3/envs/scripts/lib/python3.11/site-packages (from spacy<3.6.0,>=3.5.0->en-core-web-sm==3.5.0) (2.30.0)\n",
      "Requirement already satisfied: pydantic!=1.8,!=1.8.1,<1.11.0,>=1.7.4 in /home/cesarms/miniconda3/envs/scripts/lib/python3.11/site-packages (from spacy<3.6.0,>=3.5.0->en-core-web-sm==3.5.0) (1.10.7)\n",
      "Requirement already satisfied: jinja2 in /home/cesarms/miniconda3/envs/scripts/lib/python3.11/site-packages (from spacy<3.6.0,>=3.5.0->en-core-web-sm==3.5.0) (3.1.2)\n",
      "Requirement already satisfied: setuptools in /home/cesarms/miniconda3/envs/scripts/lib/python3.11/site-packages (from spacy<3.6.0,>=3.5.0->en-core-web-sm==3.5.0) (66.0.0)\n",
      "Requirement already satisfied: packaging>=20.0 in /home/cesarms/miniconda3/envs/scripts/lib/python3.11/site-packages (from spacy<3.6.0,>=3.5.0->en-core-web-sm==3.5.0) (23.1)\n",
      "Requirement already satisfied: langcodes<4.0.0,>=3.2.0 in /home/cesarms/miniconda3/envs/scripts/lib/python3.11/site-packages (from spacy<3.6.0,>=3.5.0->en-core-web-sm==3.5.0) (3.3.0)\n",
      "Requirement already satisfied: typing-extensions>=4.2.0 in /home/cesarms/miniconda3/envs/scripts/lib/python3.11/site-packages (from pydantic!=1.8,!=1.8.1,<1.11.0,>=1.7.4->spacy<3.6.0,>=3.5.0->en-core-web-sm==3.5.0) (4.5.0)\n",
      "Requirement already satisfied: charset-normalizer<4,>=2 in /home/cesarms/miniconda3/envs/scripts/lib/python3.11/site-packages (from requests<3.0.0,>=2.13.0->spacy<3.6.0,>=3.5.0->en-core-web-sm==3.5.0) (3.1.0)\n",
      "Requirement already satisfied: idna<4,>=2.5 in /home/cesarms/miniconda3/envs/scripts/lib/python3.11/site-packages (from requests<3.0.0,>=2.13.0->spacy<3.6.0,>=3.5.0->en-core-web-sm==3.5.0) (3.4)\n",
      "Requirement already satisfied: urllib3<3,>=1.21.1 in /home/cesarms/miniconda3/envs/scripts/lib/python3.11/site-packages (from requests<3.0.0,>=2.13.0->spacy<3.6.0,>=3.5.0->en-core-web-sm==3.5.0) (2.0.2)\n",
      "Requirement already satisfied: certifi>=2017.4.17 in /home/cesarms/miniconda3/envs/scripts/lib/python3.11/site-packages (from requests<3.0.0,>=2.13.0->spacy<3.6.0,>=3.5.0->en-core-web-sm==3.5.0) (2023.5.7)\n",
      "Requirement already satisfied: blis<0.8.0,>=0.7.8 in /home/cesarms/miniconda3/envs/scripts/lib/python3.11/site-packages (from thinc<8.2.0,>=8.1.8->spacy<3.6.0,>=3.5.0->en-core-web-sm==3.5.0) (0.7.9)\n",
      "Requirement already satisfied: confection<1.0.0,>=0.0.1 in /home/cesarms/miniconda3/envs/scripts/lib/python3.11/site-packages (from thinc<8.2.0,>=8.1.8->spacy<3.6.0,>=3.5.0->en-core-web-sm==3.5.0) (0.0.4)\n",
      "Requirement already satisfied: click<9.0.0,>=7.1.1 in /home/cesarms/miniconda3/envs/scripts/lib/python3.11/site-packages (from typer<0.8.0,>=0.3.0->spacy<3.6.0,>=3.5.0->en-core-web-sm==3.5.0) (8.1.3)\n",
      "Requirement already satisfied: MarkupSafe>=2.0 in /home/cesarms/miniconda3/envs/scripts/lib/python3.11/site-packages (from jinja2->spacy<3.6.0,>=3.5.0->en-core-web-sm==3.5.0) (2.1.2)\n",
      "\u001b[38;5;2m✔ Download and installation successful\u001b[0m\n",
      "You can now load the package via spacy.load('en_core_web_sm')\n"
     ]
    },
    {
     "name": "stderr",
     "output_type": "stream",
     "text": [
      "[nltk_data] Downloading package stopwords to\n",
      "[nltk_data]     /home/cesarms/nltk_data...\n",
      "[nltk_data]   Package stopwords is already up-to-date!\n"
     ]
    },
    {
     "name": "stdout",
     "output_type": "stream",
     "text": [
      "Requirement already satisfied: scikit-learn==1.2.2 in /home/cesarms/miniconda3/envs/scripts/lib/python3.11/site-packages (1.2.2)\n",
      "Requirement already satisfied: numpy>=1.17.3 in /home/cesarms/miniconda3/envs/scripts/lib/python3.11/site-packages (from scikit-learn==1.2.2) (1.24.3)\n",
      "Requirement already satisfied: scipy>=1.3.2 in /home/cesarms/miniconda3/envs/scripts/lib/python3.11/site-packages (from scikit-learn==1.2.2) (1.10.1)\n",
      "Requirement already satisfied: joblib>=1.1.1 in /home/cesarms/miniconda3/envs/scripts/lib/python3.11/site-packages (from scikit-learn==1.2.2) (1.2.0)\n",
      "Requirement already satisfied: threadpoolctl>=2.0.0 in /home/cesarms/miniconda3/envs/scripts/lib/python3.11/site-packages (from scikit-learn==1.2.2) (3.1.0)\n",
      "Requirement already satisfied: gensim==4.3.1 in /home/cesarms/miniconda3/envs/scripts/lib/python3.11/site-packages (4.3.1)\n",
      "Requirement already satisfied: numpy>=1.18.5 in /home/cesarms/miniconda3/envs/scripts/lib/python3.11/site-packages (from gensim==4.3.1) (1.24.3)\n",
      "Requirement already satisfied: scipy>=1.7.0 in /home/cesarms/miniconda3/envs/scripts/lib/python3.11/site-packages (from gensim==4.3.1) (1.10.1)\n",
      "Requirement already satisfied: smart-open>=1.8.1 in /home/cesarms/miniconda3/envs/scripts/lib/python3.11/site-packages (from gensim==4.3.1) (6.3.0)\n",
      "Requirement already satisfied: torch==2.0.0 in /home/cesarms/miniconda3/envs/scripts/lib/python3.11/site-packages (2.0.0)\n",
      "Requirement already satisfied: filelock in /home/cesarms/miniconda3/envs/scripts/lib/python3.11/site-packages (from torch==2.0.0) (3.12.0)\n",
      "Requirement already satisfied: typing-extensions in /home/cesarms/miniconda3/envs/scripts/lib/python3.11/site-packages (from torch==2.0.0) (4.5.0)\n",
      "Requirement already satisfied: sympy in /home/cesarms/miniconda3/envs/scripts/lib/python3.11/site-packages (from torch==2.0.0) (1.11.1)\n",
      "Requirement already satisfied: networkx in /home/cesarms/miniconda3/envs/scripts/lib/python3.11/site-packages (from torch==2.0.0) (3.1)\n",
      "Requirement already satisfied: jinja2 in /home/cesarms/miniconda3/envs/scripts/lib/python3.11/site-packages (from torch==2.0.0) (3.1.2)\n",
      "Requirement already satisfied: nvidia-cuda-nvrtc-cu11==11.7.99 in /home/cesarms/miniconda3/envs/scripts/lib/python3.11/site-packages (from torch==2.0.0) (11.7.99)\n",
      "Requirement already satisfied: nvidia-cuda-runtime-cu11==11.7.99 in /home/cesarms/miniconda3/envs/scripts/lib/python3.11/site-packages (from torch==2.0.0) (11.7.99)\n",
      "Requirement already satisfied: nvidia-cuda-cupti-cu11==11.7.101 in /home/cesarms/miniconda3/envs/scripts/lib/python3.11/site-packages (from torch==2.0.0) (11.7.101)\n",
      "Requirement already satisfied: nvidia-cudnn-cu11==8.5.0.96 in /home/cesarms/miniconda3/envs/scripts/lib/python3.11/site-packages (from torch==2.0.0) (8.5.0.96)\n",
      "Requirement already satisfied: nvidia-cublas-cu11==11.10.3.66 in /home/cesarms/miniconda3/envs/scripts/lib/python3.11/site-packages (from torch==2.0.0) (11.10.3.66)\n",
      "Requirement already satisfied: nvidia-cufft-cu11==10.9.0.58 in /home/cesarms/miniconda3/envs/scripts/lib/python3.11/site-packages (from torch==2.0.0) (10.9.0.58)\n",
      "Requirement already satisfied: nvidia-curand-cu11==10.2.10.91 in /home/cesarms/miniconda3/envs/scripts/lib/python3.11/site-packages (from torch==2.0.0) (10.2.10.91)\n",
      "Requirement already satisfied: nvidia-cusolver-cu11==11.4.0.1 in /home/cesarms/miniconda3/envs/scripts/lib/python3.11/site-packages (from torch==2.0.0) (11.4.0.1)\n",
      "Requirement already satisfied: nvidia-cusparse-cu11==11.7.4.91 in /home/cesarms/miniconda3/envs/scripts/lib/python3.11/site-packages (from torch==2.0.0) (11.7.4.91)\n",
      "Requirement already satisfied: nvidia-nccl-cu11==2.14.3 in /home/cesarms/miniconda3/envs/scripts/lib/python3.11/site-packages (from torch==2.0.0) (2.14.3)\n",
      "Requirement already satisfied: nvidia-nvtx-cu11==11.7.91 in /home/cesarms/miniconda3/envs/scripts/lib/python3.11/site-packages (from torch==2.0.0) (11.7.91)\n",
      "Requirement already satisfied: triton==2.0.0 in /home/cesarms/miniconda3/envs/scripts/lib/python3.11/site-packages (from torch==2.0.0) (2.0.0)\n",
      "Requirement already satisfied: setuptools in /home/cesarms/miniconda3/envs/scripts/lib/python3.11/site-packages (from nvidia-cublas-cu11==11.10.3.66->torch==2.0.0) (66.0.0)\n",
      "Requirement already satisfied: wheel in /home/cesarms/miniconda3/envs/scripts/lib/python3.11/site-packages (from nvidia-cublas-cu11==11.10.3.66->torch==2.0.0) (0.38.4)\n",
      "Requirement already satisfied: cmake in /home/cesarms/miniconda3/envs/scripts/lib/python3.11/site-packages (from triton==2.0.0->torch==2.0.0) (3.26.3)\n",
      "Requirement already satisfied: lit in /home/cesarms/miniconda3/envs/scripts/lib/python3.11/site-packages (from triton==2.0.0->torch==2.0.0) (16.0.3)\n",
      "Requirement already satisfied: MarkupSafe>=2.0 in /home/cesarms/miniconda3/envs/scripts/lib/python3.11/site-packages (from jinja2->torch==2.0.0) (2.1.2)\n",
      "Requirement already satisfied: mpmath>=0.19 in /home/cesarms/miniconda3/envs/scripts/lib/python3.11/site-packages (from sympy->torch==2.0.0) (1.3.0)\n",
      "Requirement already satisfied: transformers==4.27.3 in /home/cesarms/miniconda3/envs/scripts/lib/python3.11/site-packages (4.27.3)\n",
      "Requirement already satisfied: filelock in /home/cesarms/miniconda3/envs/scripts/lib/python3.11/site-packages (from transformers==4.27.3) (3.12.0)\n",
      "Requirement already satisfied: huggingface-hub<1.0,>=0.11.0 in /home/cesarms/miniconda3/envs/scripts/lib/python3.11/site-packages (from transformers==4.27.3) (0.14.1)\n",
      "Requirement already satisfied: numpy>=1.17 in /home/cesarms/miniconda3/envs/scripts/lib/python3.11/site-packages (from transformers==4.27.3) (1.24.3)\n",
      "Requirement already satisfied: packaging>=20.0 in /home/cesarms/miniconda3/envs/scripts/lib/python3.11/site-packages (from transformers==4.27.3) (23.1)\n",
      "Requirement already satisfied: pyyaml>=5.1 in /home/cesarms/miniconda3/envs/scripts/lib/python3.11/site-packages (from transformers==4.27.3) (6.0)\n",
      "Requirement already satisfied: regex!=2019.12.17 in /home/cesarms/miniconda3/envs/scripts/lib/python3.11/site-packages (from transformers==4.27.3) (2023.5.5)\n",
      "Requirement already satisfied: requests in /home/cesarms/miniconda3/envs/scripts/lib/python3.11/site-packages (from transformers==4.27.3) (2.30.0)\n",
      "Requirement already satisfied: tokenizers!=0.11.3,<0.14,>=0.11.1 in /home/cesarms/miniconda3/envs/scripts/lib/python3.11/site-packages (from transformers==4.27.3) (0.13.3)\n",
      "Requirement already satisfied: tqdm>=4.27 in /home/cesarms/miniconda3/envs/scripts/lib/python3.11/site-packages (from transformers==4.27.3) (4.65.0)\n",
      "Requirement already satisfied: fsspec in /home/cesarms/miniconda3/envs/scripts/lib/python3.11/site-packages (from huggingface-hub<1.0,>=0.11.0->transformers==4.27.3) (2023.5.0)\n",
      "Requirement already satisfied: typing-extensions>=3.7.4.3 in /home/cesarms/miniconda3/envs/scripts/lib/python3.11/site-packages (from huggingface-hub<1.0,>=0.11.0->transformers==4.27.3) (4.5.0)\n",
      "Requirement already satisfied: charset-normalizer<4,>=2 in /home/cesarms/miniconda3/envs/scripts/lib/python3.11/site-packages (from requests->transformers==4.27.3) (3.1.0)\n",
      "Requirement already satisfied: idna<4,>=2.5 in /home/cesarms/miniconda3/envs/scripts/lib/python3.11/site-packages (from requests->transformers==4.27.3) (3.4)\n",
      "Requirement already satisfied: urllib3<3,>=1.21.1 in /home/cesarms/miniconda3/envs/scripts/lib/python3.11/site-packages (from requests->transformers==4.27.3) (2.0.2)\n",
      "Requirement already satisfied: certifi>=2017.4.17 in /home/cesarms/miniconda3/envs/scripts/lib/python3.11/site-packages (from requests->transformers==4.27.3) (2023.5.7)\n"
     ]
    },
    {
     "name": "stderr",
     "output_type": "stream",
     "text": [
      "/home/cesarms/miniconda3/envs/scripts/lib/python3.11/site-packages/tqdm/auto.py:21: TqdmWarning: IProgress not found. Please update jupyter and ipywidgets. See https://ipywidgets.readthedocs.io/en/stable/user_install.html\n",
      "  from .autonotebook import tqdm as notebook_tqdm\n"
     ]
    }
   ],
   "source": [
    "import text_preprocessing as tp\n",
    "import text_vectorizer as vec\n",
    "import requests\n",
    "from bs4 import BeautifulSoup"
   ]
  },
  {
   "cell_type": "code",
   "execution_count": 3,
   "metadata": {},
   "outputs": [],
   "source": [
    "def generar_texto(paragraphs):\n",
    "    text = ''\n",
    "    for p in paragraphs:\n",
    "        text += p.text\n",
    "\n",
    "    return text"
   ]
  },
  {
   "cell_type": "code",
   "execution_count": 4,
   "metadata": {},
   "outputs": [],
   "source": [
    "def get_documents(urls):\n",
    "    documents = []\n",
    "    for url in urls:\n",
    "        response = requests.get(url)\n",
    "        soup = BeautifulSoup(response.text)\n",
    "        paragraphs = soup.find_all('p')\n",
    "        doc = generar_texto(paragraphs)\n",
    "        documents.append(doc)\n",
    "    \n",
    "    return documents"
   ]
  },
  {
   "cell_type": "code",
   "execution_count": 5,
   "metadata": {},
   "outputs": [],
   "source": [
    "urls = ['https://en.wikipedia.org/wiki/Bag-of-words_model',\n",
    "        'https://en.wikipedia.org/wiki/Artificial_intelligence',\n",
    "        'https://en.wikipedia.org/wiki/Natural_language_processing',\n",
    "        'https://en.wikipedia.org/wiki/Machine_learning',\n",
    "        'https://en.wikipedia.org/wiki/Deep_learning']"
   ]
  },
  {
   "cell_type": "code",
   "execution_count": 6,
   "metadata": {},
   "outputs": [],
   "source": [
    "texts = get_documents(urls)\n",
    "prep = tp.Preprocessing('english')\n",
    "prep_texts = prep.main_preprocess(data= texts, whitelist = '')\n",
    "train_texts = prep_texts[:3]\n",
    "test_texts = prep_texts[3:]"
   ]
  },
  {
   "cell_type": "code",
   "execution_count": 7,
   "metadata": {},
   "outputs": [],
   "source": [
    "tfidf_vec = vec.Vectorizer(data= train_texts)\n",
    "vectors_tfidf = tfidf_vec.vectorize(test_texts)"
   ]
  },
  {
   "cell_type": "code",
   "execution_count": 8,
   "metadata": {},
   "outputs": [
    {
     "data": {
      "text/plain": [
       "[8.23489734904524, -146.7132478471067, -92.37731576236183, -297.25408304810117]"
      ]
     },
     "execution_count": 8,
     "metadata": {},
     "output_type": "execute_result"
    }
   ],
   "source": [
    "embeddings = vec.Embeddings(data = train_texts)\n",
    "embedding_vectors = embeddings.vectorize(test_texts)\n",
    "embedding_vectors[0][:4]"
   ]
  },
  {
   "cell_type": "code",
   "execution_count": 9,
   "metadata": {},
   "outputs": [
    {
     "name": "stderr",
     "output_type": "stream",
     "text": [
      "Some weights of the model checkpoint at dccuchile/bert-base-spanish-wwm-uncased were not used when initializing BertModel: ['cls.predictions.bias', 'cls.predictions.transform.dense.bias', 'cls.predictions.decoder.weight', 'cls.predictions.transform.LayerNorm.weight', 'cls.predictions.transform.dense.weight', 'cls.predictions.transform.LayerNorm.bias', 'cls.predictions.decoder.bias']\n",
      "- This IS expected if you are initializing BertModel from the checkpoint of a model trained on another task or with another architecture (e.g. initializing a BertForSequenceClassification model from a BertForPreTraining model).\n",
      "- This IS NOT expected if you are initializing BertModel from the checkpoint of a model that you expect to be exactly identical (initializing a BertForSequenceClassification model from a BertForSequenceClassification model).\n",
      "Some weights of BertModel were not initialized from the model checkpoint at dccuchile/bert-base-spanish-wwm-uncased and are newly initialized: ['bert.pooler.dense.weight', 'bert.pooler.dense.bias']\n",
      "You should probably TRAIN this model on a down-stream task to be able to use it for predictions and inference.\n"
     ]
    },
    {
     "data": {
      "text/plain": [
       "[0.35217469930648804,\n",
       " -0.7236939966678619,\n",
       " 2.4739724695682526,\n",
       " -1.6975632905960083]"
      ]
     },
     "execution_count": 9,
     "metadata": {},
     "output_type": "execute_result"
    }
   ],
   "source": [
    "bert_embeddings = vec.BertEmbeddings(pretrained_model= 'dccuchile/bert-base-spanish-wwm-uncased')\n",
    "bert_embedding_vectors = bert_embeddings.vectorize(test_texts[0][:100])\n",
    "bert_embedding_vectors[0][:4]"
   ]
  },
  {
   "cell_type": "code",
   "execution_count": null,
   "metadata": {},
   "outputs": [],
   "source": []
  }
 ],
 "metadata": {
  "kernelspec": {
   "display_name": "scripts",
   "language": "python",
   "name": "python3"
  },
  "language_info": {
   "codemirror_mode": {
    "name": "ipython",
    "version": 3
   },
   "file_extension": ".py",
   "mimetype": "text/x-python",
   "name": "python",
   "nbconvert_exporter": "python",
   "pygments_lexer": "ipython3",
   "version": "3.11.3"
  },
  "orig_nbformat": 4
 },
 "nbformat": 4,
 "nbformat_minor": 2
}
